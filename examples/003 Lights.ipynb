{
 "cells": [
  {
   "cell_type": "code",
   "execution_count": null,
   "metadata": {},
   "outputs": [],
   "source": [
    "import time\n",
    "import numpy as np\n",
    "import functools\n",
    "import matplotlib\n",
    "import matplotlib.pyplot as plt\n",
    "%matplotlib inline\n",
    "from pvtrace.scene.scene import Scene\n",
    "from pvtrace.scene.renderer import MeshcatRenderer\n",
    "from pvtrace.scene.node import Node\n",
    "from pvtrace.algorithm import photon_tracer\n",
    "from pvtrace.geometry.sphere import Sphere\n",
    "from pvtrace.material.dielectric import Dielectric, LossyDielectric\n",
    "from pvtrace.light.ray import Ray\n",
    "from pvtrace.light.light import Light\n",
    "from pvtrace.material.distribution import Distribution\n",
    "import logging\n",
    "logging.getLogger(\"pvtrace\").setLevel(logging.CRITICAL)"
   ]
  },
  {
   "cell_type": "markdown",
   "metadata": {},
   "source": [
    "# Light sources\n",
    "\n",
    "In this notebook we will demonstrate how to automate the generation of input rays using light sources. To make things simpler we will remove the sphere and have an empty scene.\n",
    "\n",
    "Subclassing to specialise a light source seems like the wrong approach, as to account for all the possible options a large number of subclasses would be needed. In pvtrace 2.0 we use delegation to customise properties of the emitted rays."
   ]
  },
  {
   "cell_type": "code",
   "execution_count": null,
   "metadata": {},
   "outputs": [],
   "source": [
    "world = Node(\n",
    "    name=\"world (air)\",\n",
    "    geometry=Sphere(\n",
    "        radius=10.0,\n",
    "        material=Dielectric.air()\n",
    "    )\n",
    ")\n",
    "ray = Ray(\n",
    "    position=(-1.0, 0.0, 0.9),\n",
    "    direction=(1.0, 0.0, 0.0),\n",
    "    wavelength=600.0\n",
    ")\n",
    "scene = Scene(world)"
   ]
  },
  {
   "cell_type": "markdown",
   "metadata": {},
   "source": [
    "## Default Light\n",
    "\n",
    "Make a default light object with no arguments.\n",
    "\n",
    "The default light object generates rays with wavelength 555nm with direction along the positive z-axis. Lights always emit from (0, 0, 0). We will see later how to orientate lights into different positions."
   ]
  },
  {
   "cell_type": "code",
   "execution_count": null,
   "metadata": {},
   "outputs": [],
   "source": [
    "light = Light()\n",
    "vis = MeshcatRenderer()\n",
    "vis.render(scene)\n",
    "for ray in light.emit(10):\n",
    "    steps = photon_tracer.follow(ray, scene)\n",
    "    path, decisions = zip(*steps)\n",
    "    vis.add_ray_path(path)\n",
    "vis.vis.jupyter_cell()"
   ]
  },
  {
   "cell_type": "markdown",
   "metadata": {},
   "source": [
    "## Light with divergence (solid angle)\n",
    " All that is needed is to supply a function (a delegate) which alters one of the three basic properties of a ray: position, direction and wavelength.\n",
    "\n",
    "The light object is initalised with a divergence delegate, which is a callable, that does not take any arguments. When called, it provides ($\\theta$, $\\phi$) divergence angles, which are specified as offsets from the (0, 0, 1) direction. Clear as mud? Let's see an example."
   ]
  },
  {
   "cell_type": "code",
   "execution_count": null,
   "metadata": {},
   "outputs": [],
   "source": [
    "light = Light(divergence_delegate=functools.partial(Light.cone_divergence, np.radians(5)))\n",
    "vis = MeshcatRenderer()\n",
    "vis.render(scene)\n",
    "for ray in light.emit(100):\n",
    "    steps = photon_tracer.follow(ray, scene)\n",
    "    path, decisions = zip(*steps)\n",
    "    vis.add_ray_path(path)\n",
    "vis.vis.jupyter_cell()"
   ]
  },
  {
   "cell_type": "markdown",
   "metadata": {},
   "source": [
    "Here the line,\n",
    "\n",
    "    functools.partial(Light.cone_divergence, np.radians(5))\n",
    "\n",
    "uses functool.partial to return a function which when called samples random directions inside a cone of solid angle with half-angle of 5-degrees from the normal direction."
   ]
  },
  {
   "cell_type": "markdown",
   "metadata": {},
   "source": [
    "## Light with Lambertian distribution\n",
    "\n",
    "To emit light with a Lambertian distribution of angles, use the divergence delegate `Light.lambertian_divergence`."
   ]
  },
  {
   "cell_type": "code",
   "execution_count": null,
   "metadata": {},
   "outputs": [],
   "source": [
    "light = Light(divergence_delegate=Light.lambertian_divergence)\n",
    "vis = MeshcatRenderer()\n",
    "vis.render(scene)\n",
    "for ray in light.emit(100):\n",
    "    steps = photon_tracer.follow(ray, scene)\n",
    "    path, decisions = zip(*steps)\n",
    "    vis.add_ray_path(path)\n",
    "vis.vis.jupyter_cell()"
   ]
  },
  {
   "cell_type": "markdown",
   "metadata": {},
   "source": [
    "## Light emitted from a square\n",
    "\n",
    "A spatial mask can be provided using the position delegate, which offsets the emission position in the xy-plane for each generated ray. To emit inside the bounds of a square using the square mask delegate."
   ]
  },
  {
   "cell_type": "code",
   "execution_count": null,
   "metadata": {},
   "outputs": [],
   "source": [
    "# Square emitter\n",
    "xside, yside = (1, 1)\n",
    "light = Light(position_delegate=functools.partial(Light.square_mask, xside, yside))\n",
    "vis = MeshcatRenderer()\n",
    "vis.render(scene)\n",
    "for ray in light.emit(100):\n",
    "    steps = photon_tracer.follow(ray, scene)\n",
    "    path, decisions = zip(*steps)\n",
    "    vis.add_ray_path(path)\n",
    "vis.vis.jupyter_cell()"
   ]
  },
  {
   "cell_type": "markdown",
   "metadata": {},
   "source": [
    "## Light emitted from a circle\n",
    "\n",
    "Provide a circular mask to emit from a circle in the xy-plane."
   ]
  },
  {
   "cell_type": "code",
   "execution_count": null,
   "metadata": {},
   "outputs": [],
   "source": [
    "# Square emitter\n",
    "radius = 1\n",
    "light = Light(position_delegate=functools.partial(Light.circular_mask, radius))\n",
    "vis = MeshcatRenderer()\n",
    "vis.render(scene)\n",
    "for ray in light.emit(100):\n",
    "    steps = photon_tracer.follow(ray, scene)\n",
    "    path, decisions = zip(*steps)\n",
    "    vis.add_ray_path(path)\n",
    "vis.vis.jupyter_cell()"
   ]
  },
  {
   "cell_type": "markdown",
   "metadata": {},
   "source": [
    "## Any combination of position and divergence\n",
    "\n",
    "The power of the delegate approach is that, the angular and position delegates are independent, meaning that any combination is allowed and trivial to configure. In the example below we have used a cone divergence with a square mask,"
   ]
  },
  {
   "cell_type": "code",
   "execution_count": null,
   "metadata": {},
   "outputs": [],
   "source": [
    "# Square emitter\n",
    "radius = 1\n",
    "light = Light(\n",
    "    divergence_delegate=functools.partial(Light.cone_divergence, np.radians(5)),\n",
    "    position_delegate=functools.partial(Light.square_mask, xside, yside)\n",
    ")\n",
    "vis = MeshcatRenderer()\n",
    "vis.render(scene)\n",
    "for ray in light.emit(100):\n",
    "    steps = photon_tracer.follow(ray, scene)\n",
    "    path, decisions = zip(*steps)\n",
    "    vis.add_ray_path(path)\n",
    "vis.vis.jupyter_cell()"
   ]
  },
  {
   "cell_type": "markdown",
   "metadata": {},
   "source": [
    "## Emitting rays from a spectrum\n",
    "\n",
    "Light also has a wavelength delegate which can be used set the wavelength of the generated ray. Spectra are very problem specific so pvtrace does not provide any builtin options. In this example, we demonstrate how to construct and sample from your own distributions.\n",
    "\n",
    "Let's make an emission spectrum based on a Gaussian centred at 600nm. If you have experimental data you could import it as x, y column and use that instead."
   ]
  },
  {
   "cell_type": "code",
   "execution_count": null,
   "metadata": {},
   "outputs": [],
   "source": [
    "def make_emission_spectrum(wavelengths):\n",
    "    return np.exp(-((wavelengths-600.0)/50.0)**2)\n",
    "x = np.linspace(400, 800)\n",
    "y = np.exp(-((x-600.0)/50.0)**2)\n",
    "plt.plot(x, y)\n",
    "plt.xlabel('Wavelength (nm)')\n",
    "plt.grid(linestyle='dotted')"
   ]
  },
  {
   "cell_type": "markdown",
   "metadata": {},
   "source": [
    "pvtrace provides the `Distribution` object which aids in monte-carlo sampling of spectral distributions."
   ]
  },
  {
   "cell_type": "code",
   "execution_count": null,
   "metadata": {},
   "outputs": [],
   "source": [
    "dist = Distribution(x, y)\n",
    "dist.sample(np.random.uniform())\n",
    "light = Light(\n",
    "    wavelength_delegate=lambda: dist.sample(np.random.uniform())\n",
    ")"
   ]
  },
  {
   "cell_type": "markdown",
   "metadata": {},
   "source": [
    "Emit 10000 rays and plot a histogram of the distribution of wavelengths."
   ]
  },
  {
   "cell_type": "code",
   "execution_count": null,
   "metadata": {},
   "outputs": [],
   "source": [
    "plt.hist([x.wavelength for x in list(light.emit(10000))], bins=20, density=True, histtype='step', label='sample')\n",
    "plt.plot(x, y/np.trapz(y, x), label='distribution')\n",
    "plt.legend()\n",
    "plt.xlabel(\"Wavelength (nm)\")\n",
    "plt.grid(linestyle='dotted')"
   ]
  },
  {
   "cell_type": "markdown",
   "metadata": {},
   "source": [
    "In the final example, we create a light with cone divergence, emitting from a circle with the emission spectrum used above."
   ]
  },
  {
   "cell_type": "code",
   "execution_count": null,
   "metadata": {},
   "outputs": [],
   "source": [
    "# Square emitter\n",
    "radius = 1\n",
    "light = Light(\n",
    "    wavelength_delegate=lambda: dist.sample(np.random.uniform()),\n",
    "    divergence_delegate=functools.partial(Light.cone_divergence, np.radians(5)),\n",
    "    position_delegate=functools.partial(Light.square_mask, xside, yside)\n",
    ")\n",
    "vis = MeshcatRenderer()\n",
    "vis.render(scene)\n",
    "for ray in light.emit(100):\n",
    "    steps = photon_tracer.follow(ray, scene)\n",
    "    path, decisions = zip(*steps)\n",
    "    vis.add_ray_path(path)\n",
    "vis.vis.jupyter_cell()"
   ]
  },
  {
   "cell_type": "markdown",
   "metadata": {},
   "source": [
    "In the next tutorial we look at how to position lights (and other objects) in the scene at a location and orientation of your choosing."
   ]
  }
 ],
 "metadata": {
  "kernelspec": {
   "display_name": "Python 3",
   "language": "python",
   "name": "python3"
  },
  "language_info": {
   "codemirror_mode": {
    "name": "ipython",
    "version": 3
   },
   "file_extension": ".py",
   "mimetype": "text/x-python",
   "name": "python",
   "nbconvert_exporter": "python",
   "pygments_lexer": "ipython3",
   "version": "3.7.2"
  }
 },
 "nbformat": 4,
 "nbformat_minor": 2
}
