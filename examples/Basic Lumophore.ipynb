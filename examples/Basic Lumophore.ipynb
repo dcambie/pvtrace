{
 "cells": [
  {
   "cell_type": "code",
   "execution_count": 2,
   "metadata": {},
   "outputs": [],
   "source": [
    "import numpy as np\n",
    "import matplotlib.pyplot as plt\n",
    "%matplotlib inline"
   ]
  },
  {
   "cell_type": "code",
   "execution_count": 17,
   "metadata": {},
   "outputs": [],
   "source": [
    "x = np.linspace(200, 800, 400)\n",
    "\n",
    "def g(x, a, x0, w):\n",
    "    \"\"\" Gaussian function\n",
    "    \n",
    "        Parameters\n",
    "        ----------\n",
    "        x : float or array-like\n",
    "            x values\n",
    "        a : float\n",
    "            The amplitude\n",
    "        x0: float\n",
    "            The centre\n",
    "        w : float\n",
    "            The half-width at half-maximum.\n",
    "        \n",
    "        Returns\n",
    "        -------\n",
    "        float or array-like\n",
    "            Gaussian values\n",
    "    \"\"\"\n",
    "    return a * np.exp(-np.log(2)*((x0 - x)/w)**2)\n",
    "\n",
    "def sg(x, a, x0, w1, w2):\n",
    "    \"\"\" Split-Gaussian function\n",
    "    \n",
    "        Parameters\n",
    "        ----------\n",
    "        x : float or array-like\n",
    "            x values\n",
    "        a : float\n",
    "            The amplitude\n",
    "        x0: float\n",
    "            The centre\n",
    "        w1 : float\n",
    "            The half-width at half-maximum, left of peak\n",
    "        w2 : float\n",
    "            The half-width at half-maximum, right of peak\n",
    "        \n",
    "        Returns\n",
    "        -------\n",
    "        float or array-like\n",
    "            Gaussian values\n",
    "    \"\"\"\n",
    "    f = g(x, a, x0, w1)\n",
    "    f[np.where(x > x0)] = g(x[np.where(x > x0)], a, x0, w2)\n",
    "    return f"
   ]
  },
  {
   "cell_type": "code",
   "execution_count": 18,
   "metadata": {},
   "outputs": [
    {
     "data": {
      "text/plain": [
       "[<matplotlib.lines.Line2D at 0x11271bcf8>]"
      ]
     },
     "execution_count": 18,
     "metadata": {},
     "output_type": "execute_result"
    },
    {
     "data": {
      "image/png": "[encoded data removed]",
      "text/plain": [
       "<Figure size 432x288 with 1 Axes>"
      ]
     },
     "metadata": {
      "needs_background": "light"
     },
     "output_type": "display_data"
    }
   ],
   "source": [
    "plt.plot(x, g(x, 1, 400, 50))"
   ]
  },
  {
   "cell_type": "code",
   "execution_count": 24,
   "metadata": {},
   "outputs": [
    {
     "name": "stderr",
     "output_type": "stream",
     "text": [
      "/Users/daniel/.pyenv/versions/3.7.2/envs/pvtrace-3.7.2/lib/python3.7/site-packages/ipykernel_launcher.py:22: RuntimeWarning: divide by zero encountered in true_divide\n",
      "/Users/daniel/.pyenv/versions/3.7.2/envs/pvtrace-3.7.2/lib/python3.7/site-packages/ipykernel_launcher.py:22: RuntimeWarning: invalid value encountered in true_divide\n"
     ]
    },
    {
     "data": {
      "text/plain": [
       "[<matplotlib.lines.Line2D at 0x112b74e80>]"
      ]
     },
     "execution_count": 24,
     "metadata": {},
     "output_type": "execute_result"
    },
    {
     "data": {
      "image/png": "[encoded data removed]",
      "text/plain": [
       "<Figure size 432x288 with 1 Axes>"
      ]
     },
     "metadata": {
      "needs_background": "light"
     },
     "output_type": "display_data"
    }
   ],
   "source": [
    "plt.plot(x, sg(x, 1, 400, 0, 0))"
   ]
  },
  {
   "cell_type": "code",
   "execution_count": null,
   "metadata": {},
   "outputs": [],
   "source": []
  }
 ],
 "metadata": {
  "kernelspec": {
   "display_name": "Python 3",
   "language": "python",
   "name": "python3"
  },
  "language_info": {
   "codemirror_mode": {
    "name": "ipython",
    "version": 3
   },
   "file_extension": ".py",
   "mimetype": "text/x-python",
   "name": "python",
   "nbconvert_exporter": "python",
   "pygments_lexer": "ipython3",
   "version": "3.7.2"
  }
 },
 "nbformat": 4,
 "nbformat_minor": 2
}
