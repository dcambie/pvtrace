{
 "cells": [
  {
   "cell_type": "code",
   "execution_count": 10,
   "metadata": {},
   "outputs": [
    {
     "name": "stderr",
     "output_type": "stream",
     "text": [
      "DEBUG:matplotlib.pyplot:Loaded backend module://ipykernel.pylab.backend_inline version unknown.\n"
     ]
    }
   ],
   "source": [
    "import time\n",
    "import numpy as np\n",
    "import matplotlib\n",
    "import matplotlib.pyplot as plt\n",
    "%matplotlib inline\n",
    "from pvtrace.scene.scene import Scene\n",
    "from pvtrace.scene.renderer import MeshcatRenderer\n",
    "from pvtrace.scene.node import Node\n",
    "from pvtrace.algorithm import photon_tracer\n",
    "from pvtrace.geometry.sphere import Sphere\n",
    "from pvtrace.material.dielectric import Dielectric, LossyDielectric\n",
    "from pvtrace.material.lumophore import Lumophore\n",
    "from pvtrace.material.host import Host\n",
    "from pvtrace.light.ray import Ray\n",
    "import logging\n",
    "logging.getLogger(\"pvtrace\").setLevel(logging.CRITICAL)"
   ]
  },
  {
   "cell_type": "markdown",
   "metadata": {},
   "source": [
    "# Material types\n",
    "In this notebook we will continue with the same example in quick start 1 but investigate different material types.\n",
    "\n",
    "Let's define the original scene."
   ]
  },
  {
   "cell_type": "code",
   "execution_count": 11,
   "metadata": {},
   "outputs": [],
   "source": [
    "world = Node(\n",
    "    name=\"world (air)\",\n",
    "    geometry=Sphere(\n",
    "        radius=10.0,\n",
    "        material=Dielectric.air()\n",
    "    )\n",
    ")\n",
    "sphere = Node(\n",
    "    name=\"sphere (glass)\",\n",
    "    geometry=Sphere(\n",
    "        radius=1.0,\n",
    "        material=Dielectric.glass()\n",
    "    ),\n",
    "    parent=world\n",
    ")\n",
    "ray = Ray(\n",
    "    position=(-1.0, 0.0, 0.9),\n",
    "    direction=(1.0, 0.0, 0.0),\n",
    "    wavelength=600.0\n",
    ")\n",
    "scene = Scene(world)"
   ]
  },
  {
   "cell_type": "markdown",
   "metadata": {},
   "source": [
    "## Dielectric material"
   ]
  },
  {
   "cell_type": "markdown",
   "metadata": {},
   "source": [
    "In pvtrace a dielectric material is a material type that only has a refractive index attribute; it only interacts with rays by reflection and refraction, calculated by the Fresnel equations. This is useful but slightly limited compared to the other material types available. If you don't need any absorption or emission in your simulations and just want to perform ray optics simulations this is the way to go.\n",
    "\n",
    "To construct a Dielectric object directly you need to numerical data of refractive index.\n",
    "\n",
    "    x = np.linspace(400.0, 800.0, 50)\n",
    "    y = np.ones(50) * 1.5\n",
    "    refractive_index = np.column_stack((x, y))\n",
    "    material = Dielectric(refractive_index)\n",
    "\n",
    "The Dielectric class offers three quick ways to get started.\n",
    "\n",
    "    wavelength_range = (400.0, 800.0)\n",
    "    material = Dielectric.make_constant(wavelength_range, 1.6)\n",
    "   \n",
    "Makes a dielectric material with constant refractive index of 1.6 over the specified frequency range.\n",
    "\n",
    "    air = Dielectric.air(x_range=wavelength_range)\n",
    "\n",
    "Makes a material like air with refractive index of 1.0.\n",
    "\n",
    "    glass = Dielectric.glass(x_range=wavelength_range)\n",
    "\n",
    "Makes a material like air with refractive index of 1.5.\n",
    "\n",
    "The `x_range` argument is optional. If it is no supplied the default range is 300nm to 4000nm.\n",
    "\n",
    "Let's trace 100 rays into the scene with the sphere of the dielectric material."
   ]
  },
  {
   "cell_type": "code",
   "execution_count": 12,
   "metadata": {},
   "outputs": [
    {
     "name": "stdout",
     "output_type": "stream",
     "text": [
      "You can open the visualizer by visiting the following URL:\n",
      "http://127.0.0.1:7004/static/\n"
     ]
    },
    {
     "data": {
      "text/html": [
       "\n",
       "<div style=\"height: 400px; width: 600px; overflow-x: auto; overflow-y: hidden; resize: both\">\n",
       "<iframe src=\"http://127.0.0.1:7004/static/\" style=\"width: 100%; height: 100%; border: none\"></iframe>\n",
       "</div>\n"
      ],
      "text/plain": [
       "<IPython.core.display.HTML object>"
      ]
     },
     "execution_count": 12,
     "metadata": {},
     "output_type": "execute_result"
    }
   ],
   "source": [
    "vis = MeshcatRenderer()\n",
    "vis.render(scene)\n",
    "for _ in range(100):\n",
    "    steps = photon_tracer.follow(ray, scene)\n",
    "    path, decisions = zip(*steps)\n",
    "    vis.add_ray_path(path)\n",
    "    time.sleep(0.001)  # allow the renderer a chance to redraw\n",
    "vis.vis.jupyter_cell()"
   ]
  },
  {
   "cell_type": "markdown",
   "metadata": {},
   "source": [
    "## Lossy dielectric material\n",
    "\n",
    "A lossy dielectric has a refractive index attribute and an absorption coefficient; it refracts, reflects and absorbs rays. When rays are absorbed they are killed and no longer traced.\n",
    "\n",
    "To construct a LossyDielectric object directly you need to numerical data of refractive index and absorption coefficient. The units of absorption coefficient are in cm$^{-1}$ and internally will be used with the Beer-Lambert law in base *e*: $I(x) = I_o e^{(-\\alpha x)}.$\n",
    "\n",
    "    x = np.linspace(400.0, 800.0, 50)\n",
    "    ri = np.ones(50) * 1.5\n",
    "    refractive_index = np.column_stack((x, ri))\n",
    "    alpha = np.ones(50) * 5.0  # 5cm-1\n",
    "    absorption_coefficient = np.column_stack((x, alpha))\n",
    "    material = Dielectric(refractive_index, absorption_coefficient)\n",
    "\n",
    "To make flat profiles you can use the class method,\n",
    "\n",
    "    material=LossyDielectric.make_constant((400.0, 800.0), 1.5, 5.0)\n",
    "\n",
    "which does everything above but in one line.\n",
    "    \n",
    "Let's change the material attached to the sphere. Here we make a lossy dielectric with an absorption coefficient and refractive index defined between 300nm to 4000nm. The refractive index is 1.5 and the absorption coefficient is 5cm$^{-1}.$"
   ]
  },
  {
   "cell_type": "code",
   "execution_count": 13,
   "metadata": {},
   "outputs": [
    {
     "name": "stdout",
     "output_type": "stream",
     "text": [
      "You can open the visualizer by visiting the following URL:\n",
      "http://127.0.0.1:7005/static/\n"
     ]
    },
    {
     "data": {
      "text/html": [
       "\n",
       "<div style=\"height: 400px; width: 600px; overflow-x: auto; overflow-y: hidden; resize: both\">\n",
       "<iframe src=\"http://127.0.0.1:7005/static/\" style=\"width: 100%; height: 100%; border: none\"></iframe>\n",
       "</div>\n"
      ],
      "text/plain": [
       "<IPython.core.display.HTML object>"
      ]
     },
     "execution_count": 13,
     "metadata": {},
     "output_type": "execute_result"
    }
   ],
   "source": [
    "world = Node(\n",
    "    name=\"world (air)\",\n",
    "    geometry=Sphere(\n",
    "        radius=10.0,\n",
    "        material=Dielectric.air()\n",
    "    )\n",
    ")\n",
    "sphere = Node(\n",
    "    name=\"sphere (glass)\",\n",
    "    geometry=Sphere(\n",
    "        radius=1.0,\n",
    "        material=LossyDielectric.make_constant((300, 4000), 1.5, 5.0)\n",
    "    ),\n",
    "    parent=world\n",
    ")\n",
    "ray = Ray(\n",
    "    position=(-1.0, 0.0, 0.9),\n",
    "    direction=(1.0, 0.0, 0.0),\n",
    "    wavelength=600.0\n",
    ")\n",
    "scene = Scene(world)\n",
    "vis = MeshcatRenderer()\n",
    "vis.render(scene)\n",
    "for _ in range(10):\n",
    "    steps = photon_tracer.follow(ray, scene)\n",
    "    path, decisions = zip(*steps)\n",
    "    vis.add_ray_path(path)\n",
    "    time.sleep(0.001)  # allow the renderer a chance to redraw\n",
    "vis.vis.jupyter_cell()"
   ]
  },
  {
   "cell_type": "markdown",
   "metadata": {},
   "source": [
    "To see that the ray path length inside the sphere is attenuated, click Open Controls in the meshcat viewer, open the meshcat node, and uncheck \"world (air)\". Now it is highly unlikely that the ray will travel more than a few millimeters."
   ]
  },
  {
   "cell_type": "markdown",
   "metadata": {},
   "source": [
    "## Lumophore material\n",
    "\n",
    "The lumophore material has absorption coefficient, emission spectrum and quantum yield attributes, but does not have a refractive index attribute,\n",
    "\n",
    "    x = ... # your wavelength axis\n",
    "    abs_data = ... # your absorption spectrum in units cm-1\n",
    "    ems_data = ... # your emission spectrum\n",
    "    abs_spec = np.column_stack((x, abs_data))\n",
    "    ems_spec = np.column_stack((x, ems_data))\n",
    "    qy = 1.0\n",
    "    lum = Lumophore(abs_spec, ems_spec, qy)\n",
    "\n",
    "pvtrace comes with a default spectrum of the dye Lumogen F Red,\n",
    "\n",
    "    x = np.linspace(200, 800, 200)\n",
    "    alpha = 5.0\n",
    "    qy = 1.0\n",
    "    lum = Lumophore.make_lumogen_f_red(x, alpha, qy)\n"
   ]
  },
  {
   "cell_type": "code",
   "execution_count": 14,
   "metadata": {},
   "outputs": [
    {
     "name": "stderr",
     "output_type": "stream",
     "text": [
      "DEBUG:matplotlib.axes._base:update_title_pos\n",
      "DEBUG:matplotlib.axes._base:update_title_pos\n",
      "DEBUG:matplotlib.axes._base:update_title_pos\n",
      "DEBUG:matplotlib.axes._base:update_title_pos\n",
      "DEBUG:matplotlib.axes._base:update_title_pos\n"
     ]
    },
    {
     "data": {
      "image/png": "[encoded data removed]",
      "text/plain": [
       "<Figure size 432x288 with 1 Axes>"
      ]
     },
     "metadata": {
      "needs_background": "light"
     },
     "output_type": "display_data"
    }
   ],
   "source": [
    "wavelength = np.linspace(200, 800, 200)\n",
    "lumophore = Lumophore.make_lumogen_f_red(wavelength, 5.0, 1.0)\n",
    "plt.plot(wavelength, lumophore.absorption_coefficient(wavelength), label=\"Abs (1/cm)\")\n",
    "plt.plot(wavelength, lumophore.emission_spectrum(wavelength), label=\"Ems (arb.)\")\n",
    "plt.xlabel(\"Wavelength (nm)\")\n",
    "plt.legend()\n",
    "plt.grid(linestyle=\"dotted\")"
   ]
  },
  {
   "cell_type": "code",
   "execution_count": 15,
   "metadata": {},
   "outputs": [],
   "source": [
    "world = Node(\n",
    "    name=\"world (air)\",\n",
    "    geometry=Sphere(\n",
    "        radius=10.0,\n",
    "        material=Dielectric.air()\n",
    "    )\n",
    ")\n",
    "\n",
    "# Make the Lumophore material here\n",
    "wavelength = np.linspace(200, 800, 200)\n",
    "lumophore = Lumophore.make_lumogen_f_red(wavelength, 5.0, 1.0)\n",
    "\n",
    "sphere = Node(\n",
    "    name=\"sphere (glass)\",\n",
    "    geometry=Sphere(\n",
    "        radius=1.0,\n",
    "        material=lumophore  # assign it here\n",
    "    ),\n",
    "    parent=world\n",
    ")\n",
    "ray = Ray(\n",
    "    position=(-1.0, 0.0, 0.9),\n",
    "    direction=(1.0, 0.0, 0.0),\n",
    "    wavelength=600.0\n",
    ")\n",
    "scene = Scene(world)"
   ]
  },
  {
   "cell_type": "code",
   "execution_count": 16,
   "metadata": {},
   "outputs": [
    {
     "name": "stdout",
     "output_type": "stream",
     "text": [
      "You can open the visualizer by visiting the following URL:\n",
      "http://127.0.0.1:7006/static/\n"
     ]
    },
    {
     "data": {
      "text/html": [
       "\n",
       "<div style=\"height: 400px; width: 600px; overflow-x: auto; overflow-y: hidden; resize: both\">\n",
       "<iframe src=\"http://127.0.0.1:7006/static/\" style=\"width: 100%; height: 100%; border: none\"></iframe>\n",
       "</div>\n"
      ],
      "text/plain": [
       "<IPython.core.display.HTML object>"
      ]
     },
     "execution_count": 16,
     "metadata": {},
     "output_type": "execute_result"
    }
   ],
   "source": [
    "vis = MeshcatRenderer()\n",
    "vis.render(scene)\n",
    "for _ in range(10):\n",
    "    steps = photon_tracer.follow(ray, scene)\n",
    "    path, decisions = zip(*steps)\n",
    "    vis.add_ray_path(path)\n",
    "    time.sleep(0.001)  # allow the renderer a chance to redraw\n",
    "vis.vis.jupyter_cell()"
   ]
  },
  {
   "cell_type": "markdown",
   "metadata": {},
   "source": [
    "The orange ray enters the lumophore sphere, some rays can pass directly through, unabsorbed, because the absorption coefficient is faily low compared to the thickness of the sphere. Others are absorbed and re-emitted and longer (reshifted) wavelengths. These are the red rays, which branch from the orange ray path. They are locations where an orange ray has been absorbed and a re-emission event occurs.\n",
    "\n",
    "Note that the there is no refraction at the interfaces of a lumophore material. As mentioned before, this is because it does not have an refractive index attribute and therefore pvtrace does not apply any refraction at the interfaces."
   ]
  },
  {
   "cell_type": "markdown",
   "metadata": {},
   "source": [
    "## Host material\n",
    "\n",
    "A host material brings all of the above building blocks together and is probably the most interesting material type for users for the software. It has a refractive index and can be initialised with a single or multiple lumophores.\n",
    "\n",
    "Luminescent solar concentrators and spectral down-shifters are comprised of a lumophores which are typically blended with a polymer host matrix. The host provides the dominant contribution to bulk refractive index. This is reason why lumophore materials in pvtrace do not have a refractive index attribute."
   ]
  },
  {
   "cell_type": "code",
   "execution_count": 17,
   "metadata": {},
   "outputs": [],
   "source": [
    "world = Node(\n",
    "    name=\"world (air)\",\n",
    "    geometry=Sphere(\n",
    "        radius=10.0,\n",
    "        material=Dielectric.air()\n",
    "    )\n",
    ")\n",
    "\n",
    "sphere = Node(\n",
    "    name=\"sphere (glass)\",\n",
    "    geometry=Sphere(\n",
    "        radius=1.0,\n",
    "        material=Host(\n",
    "            np.column_stack( # refractive index spectrum\n",
    "                (wavelength,\n",
    "                 np.ones(wavelength.size) * 1.5)\n",
    "            ), \n",
    "            [lumophore],  # list of lumophores, reuse the one we already have.\n",
    "        )\n",
    "    ),\n",
    "    parent=world\n",
    ")\n",
    "ray = Ray(\n",
    "    position=(-1.0, 0.0, 0.9),\n",
    "    direction=(1.0, 0.0, 0.0),\n",
    "    wavelength=600.0\n",
    ")\n",
    "scene = Scene(world)"
   ]
  },
  {
   "cell_type": "code",
   "execution_count": 18,
   "metadata": {},
   "outputs": [
    {
     "name": "stdout",
     "output_type": "stream",
     "text": [
      "You can open the visualizer by visiting the following URL:\n",
      "http://127.0.0.1:7007/static/\n"
     ]
    },
    {
     "data": {
      "text/html": [
       "\n",
       "<div style=\"height: 400px; width: 600px; overflow-x: auto; overflow-y: hidden; resize: both\">\n",
       "<iframe src=\"http://127.0.0.1:7007/static/\" style=\"width: 100%; height: 100%; border: none\"></iframe>\n",
       "</div>\n"
      ],
      "text/plain": [
       "<IPython.core.display.HTML object>"
      ]
     },
     "execution_count": 18,
     "metadata": {},
     "output_type": "execute_result"
    }
   ],
   "source": [
    "vis = MeshcatRenderer()\n",
    "vis.render(scene)\n",
    "for _ in range(10):\n",
    "    steps = photon_tracer.follow(ray, scene)\n",
    "    path, decisions = zip(*steps)\n",
    "    vis.add_ray_path(path)\n",
    "    time.sleep(0.001)  # allow the renderer a chance to redraw\n",
    "vis.vis.jupyter_cell()"
   ]
  },
  {
   "cell_type": "markdown",
   "metadata": {},
   "source": [
    "The visualisation shows refraction upon enter or exiting the sphere. Also, the paths now taken are now much more complex because of internal reflection which increases the path length through the lumophore material resulting in more absorption and reemission events.\n",
    "\n",
    "In the next tutorial we will introduce light sources which makes generating rays that sample a realistic spectrum trivial."
   ]
  }
 ],
 "metadata": {
  "kernelspec": {
   "display_name": "Python 3",
   "language": "python",
   "name": "python3"
  },
  "language_info": {
   "codemirror_mode": {
    "name": "ipython",
    "version": 3
   },
   "file_extension": ".py",
   "mimetype": "text/x-python",
   "name": "python",
   "nbconvert_exporter": "python",
   "pygments_lexer": "ipython3",
   "version": "3.7.2"
  }
 },
 "nbformat": 4,
 "nbformat_minor": 2
}
