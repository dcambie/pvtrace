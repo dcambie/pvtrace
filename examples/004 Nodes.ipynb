{
 "cells": [
  {
   "cell_type": "code",
   "execution_count": null,
   "metadata": {},
   "outputs": [],
   "source": [
    "import time\n",
    "import numpy as np\n",
    "import functools\n",
    "import matplotlib\n",
    "import matplotlib.pyplot as plt\n",
    "%matplotlib inline\n",
    "from pvtrace.scene.scene import Scene\n",
    "from pvtrace.scene.renderer import MeshcatRenderer\n",
    "from pvtrace.scene.node import Node\n",
    "from pvtrace.algorithm import photon_tracer\n",
    "from pvtrace.geometry.sphere import Sphere\n",
    "from pvtrace.geometry.box import Box\n",
    "from pvtrace.geometry.utils import norm\n",
    "from pvtrace.material.dielectric import Dielectric, LossyDielectric\n",
    "from pvtrace.light.ray import Ray\n",
    "from pvtrace.light.light import Light\n",
    "from pvtrace.material.distribution import Distribution\n",
    "import logging\n",
    "logging.getLogger(\"pvtrace\").setLevel(logging.CRITICAL)\n",
    "logging.getLogger(\"trimesh\").setLevel(logging.CRITICAL)\n",
    "logging.getLogger(\"matplotlib\").setLevel(logging.CRITICAL)"
   ]
  },
  {
   "cell_type": "markdown",
   "metadata": {},
   "source": [
    "# Nodes\n",
    "\n",
    "In this notebook we introduce the concept of nodes.\n",
    "\n",
    "We have been using nodes already as the things to which we are attaching geometries. However, nodes are much more powerful than this and enabling the placement an geometries and lights in the scene at an arbitrary location and orientation. As we will see a bit later, nodes can be nested too. So if you have a complicated scene you can apply a transformation to the parent node which will have the effect of transforming the whole subtree.\n",
    "\n",
    "Clear as mud? Let's begin.\n",
    "\n",
    "We return to our usual scene and replace the sphere with a box geometry because otherwise we could not be able to see the results of rotation transformations."
   ]
  },
  {
   "cell_type": "code",
   "execution_count": null,
   "metadata": {},
   "outputs": [],
   "source": [
    "world = Node(\n",
    "    name=\"world (air)\",\n",
    "    geometry=Sphere(\n",
    "        radius=10.0,\n",
    "        material=Dielectric.air()\n",
    "    )\n",
    ")\n",
    "box = Node(\n",
    "    name=\"box (glass)\",\n",
    "    geometry=Box(\n",
    "        size=(1,1,1),\n",
    "        material=Dielectric.glass()\n",
    "    ),\n",
    "    parent=world\n",
    ")\n",
    "scene = Scene(world)\n",
    "vis = MeshcatRenderer()\n",
    "vis.render(scene)"
   ]
  },
  {
   "cell_type": "markdown",
   "metadata": {},
   "source": [
    "Add some widgets for changing the box's location. The sliders change the location tuple of the box node."
   ]
  },
  {
   "cell_type": "code",
   "execution_count": null,
   "metadata": {},
   "outputs": [],
   "source": [
    "from ipywidgets import interact, interactive, fixed, interact_manual\n",
    "import ipywidgets as widgets\n",
    "\n",
    "\n",
    "def update_box_position(x, y, z):\n",
    "    box.location = (x, y, z)\n",
    "    vis.update_transform(box)\n",
    "\n",
    "\n",
    "interact(\n",
    "    update_box_position,\n",
    "    x=widgets.FloatSlider(min=-5,max=5,step=0.1,value=0),\n",
    "    y=widgets.FloatSlider(min=-5,max=5,step=0.1,value=0),\n",
    "    z=widgets.FloatSlider(min=-5,max=5,step=0.1,value=0),\n",
    ")\n",
    "vis.vis.jupyter_cell()"
   ]
  },
  {
   "cell_type": "markdown",
   "metadata": {},
   "source": [
    "## Set location in scene\n",
    "\n",
    "The above sliders are using the box `location` property to set the location of the box in the scene. Here we also need to call the visualisers `update_transform` method to tell it about the change."
   ]
  },
  {
   "cell_type": "code",
   "execution_count": null,
   "metadata": {},
   "outputs": [],
   "source": [
    "box.location = (-2, 0.0, 0.5)\n",
    "vis.update_transform(box)  # tell the renderer is need to re-draw"
   ]
  },
  {
   "cell_type": "markdown",
   "metadata": {},
   "source": [
    "## Update rotation in scene\n",
    "\n",
    "Use the box `rotate(angle, axis)` method to *increment* the nodes rotation, this transformation is applied to node's current orientation. Here the rotation the box 45-deg around the z-axis."
   ]
  },
  {
   "cell_type": "code",
   "execution_count": null,
   "metadata": {},
   "outputs": [],
   "source": [
    "box.rotate(np.radians(20), (0, 0, 1))\n",
    "vis.update_transform(box)"
   ]
  },
  {
   "cell_type": "markdown",
   "metadata": {},
   "source": [
    "Thus you can undo the rotation like so,"
   ]
  },
  {
   "cell_type": "code",
   "execution_count": null,
   "metadata": {},
   "outputs": [],
   "source": [
    "box.rotate(np.radians(-20), (0, 0, 1))\n",
    "vis.update_transform(box)"
   ]
  },
  {
   "cell_type": "markdown",
   "metadata": {},
   "source": [
    "## A fun animation\n",
    "\n",
    "Let's use the above node properties to animate the box (see visualiser above)."
   ]
  },
  {
   "cell_type": "code",
   "execution_count": null,
   "metadata": {},
   "outputs": [],
   "source": [
    "start = list(box.location)\n",
    "for idx in range(1000):\n",
    "    time.sleep(0.01)\n",
    "    box.rotate(np.radians(1.0), norm((0, 1, 1)))\n",
    "    start[0] = np.sin((start[0] + idx)/100)\n",
    "    box.location = tuple(start)\n",
    "    vis.update_transform(box)"
   ]
  },
  {
   "cell_type": "markdown",
   "metadata": {},
   "source": [
    "## Scene with light node and geometry node"
   ]
  },
  {
   "cell_type": "markdown",
   "metadata": {},
   "source": [
    "In the scene below we demonstrate placing a geometry object and a light object in the scene using nodes. The light is attached to a node and the node position and orientation is alterered to change the emission direction. From the persective of the light source, it is still firing rays along it's z-axis of the node, but the node orienation relative to the world node has changed."
   ]
  },
  {
   "cell_type": "code",
   "execution_count": null,
   "metadata": {},
   "outputs": [],
   "source": [
    "world = Node(\n",
    "    name=\"world (air)\",\n",
    "    geometry=Sphere(\n",
    "        radius=10.0,\n",
    "        material=Dielectric.air()\n",
    "    )\n",
    ")\n",
    "box = Node(\n",
    "    name=\"box (glass)\",\n",
    "    geometry=Box(\n",
    "        size=(1,1,1),\n",
    "        material=Dielectric.glass()\n",
    "    ),\n",
    "    parent=world\n",
    ")\n",
    "laser = Node(\n",
    "    name=\"light (555nm laser)\",\n",
    "    light=Light(position_delegate=functools.partial(Light.square_mask, 0.2, 0.2)),\n",
    "    parent=world\n",
    ")\n",
    "# Customise location and orientation of the box\n",
    "box.location = (0.1, 0.1, 1.0)\n",
    "box.rotate(-np.pi/4, (1, 0, 0))\n",
    "box.rotate(np.pi/8, (0, 0, 1))\n",
    "# Change the location of the laser node\n",
    "laser.location = (0.1, 0.1, -1)\n",
    "scene = Scene(world)\n",
    "vis = MeshcatRenderer()\n",
    "vis.render(scene)\n",
    "vis.vis.jupyter_cell()"
   ]
  },
  {
   "cell_type": "markdown",
   "metadata": {},
   "source": [
    "Notice that we use the laser *nodes* emit method and not the light's emit method. The light's emit method will generate rays in the local frame of the light, but we need the rays in the frame of the laser node."
   ]
  },
  {
   "cell_type": "code",
   "execution_count": null,
   "metadata": {},
   "outputs": [],
   "source": [
    "for ray in laser.emit(200):\n",
    "    steps = photon_tracer.follow(ray, scene)\n",
    "    path, decisions = zip(*steps)\n",
    "    vis.add_ray_path(path)"
   ]
  },
  {
   "cell_type": "markdown",
   "metadata": {},
   "source": [
    "## Nested nodes\n",
    "\n",
    "Zoom out the visualiser below to see all three nodes.\n",
    "\n",
    "Nodes can be nested. Let's make make a few boxes and add them to a node called *group*. Note that the group node does not have a geometry or light attached - this is fine! We will then rotate the group node to rotate all of them at the same time."
   ]
  },
  {
   "cell_type": "code",
   "execution_count": null,
   "metadata": {},
   "outputs": [],
   "source": [
    "world = Node(\n",
    "    name=\"world (air)\",\n",
    "    geometry=Sphere(\n",
    "        radius=10.0,\n",
    "        material=Dielectric.air()\n",
    "    )\n",
    ")\n",
    "group = Node(\n",
    "    name=\"group\",\n",
    "    parent=world\n",
    ")\n",
    "box1 = Node(\n",
    "    name=\"box 1(glass)\",\n",
    "    geometry=Box(\n",
    "        size=(1,1,1),\n",
    "        material=Dielectric.glass()\n",
    "    ),\n",
    "    parent=group\n",
    ")\n",
    "box2 = Node(\n",
    "    name=\"box 2 (glass)\",\n",
    "    geometry=Box(\n",
    "        size=(1,1,1),\n",
    "        material=Dielectric.glass()\n",
    "    ),\n",
    "    parent=group\n",
    ")\n",
    "box3 = Node(\n",
    "    name=\"box 3 (glass)\",\n",
    "    geometry=Box(\n",
    "        size=(1,1,1),\n",
    "        material=Dielectric.glass()\n",
    "    ),\n",
    "    parent=group\n",
    ")\n",
    "\n",
    "# Customise location and orientation\n",
    "box1.location = (1, 1, 1)\n",
    "box2.location = (2, 2, 2)\n",
    "box3.location = (3, 3, 3)\n",
    "scene = Scene(world)\n",
    "vis = MeshcatRenderer()\n",
    "vis.render(scene)\n",
    "vis.vis.jupyter_cell()"
   ]
  },
  {
   "cell_type": "markdown",
   "metadata": {},
   "source": [
    "Spin the whole group node around the z-axis to change all node positions at once."
   ]
  },
  {
   "cell_type": "code",
   "execution_count": null,
   "metadata": {},
   "outputs": [],
   "source": [
    "steps = 200.0\n",
    "phi_range = 4 * np.pi\n",
    "phi_increment = phi_range / steps\n",
    "for _ in range(int(steps)):\n",
    "    time.sleep(0.05)\n",
    "    group.rotate(phi_increment, norm((0, 0, 1)))\n",
    "    vis.update_transform(group)"
   ]
  },
  {
   "cell_type": "code",
   "execution_count": null,
   "metadata": {},
   "outputs": [],
   "source": []
  }
 ],
 "metadata": {
  "kernelspec": {
   "display_name": "Python 3",
   "language": "python",
   "name": "python3"
  },
  "language_info": {
   "codemirror_mode": {
    "name": "ipython",
    "version": 3
   },
   "file_extension": ".py",
   "mimetype": "text/x-python",
   "name": "python",
   "nbconvert_exporter": "python",
   "pygments_lexer": "ipython3",
   "version": "3.7.2"
  }
 },
 "nbformat": 4,
 "nbformat_minor": 2
}
